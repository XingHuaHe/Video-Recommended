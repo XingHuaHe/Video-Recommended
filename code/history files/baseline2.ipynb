{
 "cells": [
  {
   "cell_type": "code",
   "execution_count": null,
   "metadata": {
    "tags": []
   },
   "outputs": [],
   "source": [
    "!ls 3/*/* --full-time -Ggh"
   ]
  },
  {
   "cell_type": "code",
   "execution_count": 2,
   "metadata": {
    "execution": {
     "iopub.execute_input": "2021-07-27T08:20:53.776769Z",
     "iopub.status.busy": "2021-07-27T08:20:53.776182Z",
     "iopub.status.idle": "2021-07-27T08:20:53.942820Z",
     "shell.execute_reply": "2021-07-27T08:20:53.941404Z",
     "shell.execute_reply.started": "2021-07-27T08:20:53.776717Z"
    },
    "tags": []
   },
   "outputs": [
    {
     "name": "stdout",
     "output_type": "stream",
     "text": [
      "part-00000-236b99d5-456a-42b2-bd8d-3cbd61d21cc6-c000.csv\n"
     ]
    }
   ],
   "source": [
    "!ls 3/traindata/history_behavior_data/20210419/"
   ]
  },
  {
   "cell_type": "markdown",
   "metadata": {},
   "source": [
    "# 数据读取"
   ]
  },
  {
   "cell_type": "code",
   "execution_count": 1,
   "metadata": {
    "execution": {
     "iopub.execute_input": "2021-07-27T11:15:48.814168Z",
     "iopub.status.busy": "2021-07-27T11:15:48.813567Z",
     "iopub.status.idle": "2021-07-27T11:15:49.407066Z",
     "shell.execute_reply": "2021-07-27T11:15:49.406495Z",
     "shell.execute_reply.started": "2021-07-27T11:15:48.814117Z"
    },
    "tags": []
   },
   "outputs": [
    {
     "name": "stdout",
     "output_type": "stream",
     "text": [
      "Populating the interactive namespace from numpy and matplotlib\n"
     ]
    }
   ],
   "source": [
    "import pandas as pd\n",
    "import glob, gc\n",
    "\n",
    "%pylab inline\n",
    "import seaborn as sns\n",
    "\n",
    "INPUT_PATH = './3'"
   ]
  },
  {
   "cell_type": "code",
   "execution_count": 3,
   "metadata": {
    "execution": {
     "iopub.execute_input": "2021-07-27T08:20:54.941121Z",
     "iopub.status.busy": "2021-07-27T08:20:54.940761Z",
     "iopub.status.idle": "2021-07-27T08:22:00.852170Z",
     "shell.execute_reply": "2021-07-27T08:22:00.851623Z",
     "shell.execute_reply.started": "2021-07-27T08:20:54.941087Z"
    },
    "tags": []
   },
   "outputs": [
    {
     "name": "stdout",
     "output_type": "stream",
     "text": [
      "Populating the interactive namespace from numpy and matplotlib\n"
     ]
    },
    {
     "name": "stderr",
     "output_type": "stream",
     "text": [
      "/home/lyz/.local/lib/python3.6/site-packages/IPython/core/interactiveshell.py:3263: DtypeWarning: Columns (6) have mixed types.Specify dtype option on import or set low_memory=False.\n",
      "  if (await self.run_code(code, result,  async_=asy)):\n"
     ]
    },
    {
     "name": "stdout",
     "output_type": "stream",
     "text": [
      "378.43 Mb, 131.40 Mb (65.28 %)\n",
      "405.14 Mb, 140.67 Mb (65.28 %)\n",
      "437.46 Mb, 151.90 Mb (65.28 %)\n",
      "374.51 Mb, 130.04 Mb (65.28 %)\n",
      "387.82 Mb, 134.66 Mb (65.28 %)\n",
      "372.54 Mb, 129.35 Mb (65.28 %)\n",
      "383.36 Mb, 133.11 Mb (65.28 %)\n",
      "397.30 Mb, 137.95 Mb (65.28 %)\n",
      "444.39 Mb, 154.30 Mb (65.28 %)\n",
      "347.10 Mb, 120.52 Mb (65.28 %)\n",
      "368.09 Mb, 127.81 Mb (65.28 %)\n",
      "448.31 Mb, 155.66 Mb (65.28 %)\n",
      "388.03 Mb, 134.73 Mb (65.28 %)\n",
      "379.69 Mb, 131.84 Mb (65.28 %)\n",
      "43.06 Mb, 21.53 Mb (50.00 %)\n",
      "360.77 Mb, 73.28 Mb (79.69 %)\n",
      "3.79 Mb, 3.04 Mb (20.00 %)\n",
      "2526.41 Mb, 2526.41 Mb (0.00 %)\n"
     ]
    }
   ],
   "source": [
    "def reduce_mem(df):\n",
    "    start_mem = df.memory_usage().sum() / 1024 ** 2\n",
    "    for col in df.columns:\n",
    "        col_type = df[col].dtypes\n",
    "        if col_type != object:\n",
    "            c_min = df[col].min()\n",
    "            c_max = df[col].max()\n",
    "            if str(col_type)[:3] == 'int':\n",
    "                if c_min > np.iinfo(np.int8).min and c_max < np.iinfo(np.int8).max:\n",
    "                    df[col] = df[col].astype(np.int8)\n",
    "                elif c_min > np.iinfo(np.int16).min and c_max < np.iinfo(np.int16).max:\n",
    "                    df[col] = df[col].astype(np.int16)\n",
    "                elif c_min > np.iinfo(np.int32).min and c_max < np.iinfo(np.int32).max:\n",
    "                    df[col] = df[col].astype(np.int32)\n",
    "                elif c_min > np.iinfo(np.int64).min and c_max < np.iinfo(np.int64).max:\n",
    "                    df[col] = df[col].astype(np.int64)\n",
    "            else:\n",
    "                if c_min > np.finfo(np.float16).min and c_max < np.finfo(np.float16).max:\n",
    "                    df[col] = df[col].astype(np.float16)\n",
    "                elif c_min > np.finfo(np.float32).min and c_max < np.finfo(np.float32).max:\n",
    "                    df[col] = df[col].astype(np.float32)\n",
    "                else:\n",
    "                    df[col] = df[col].astype(np.float64)\n",
    "    end_mem = df.memory_usage().sum() / 1024 ** 2\n",
    "    print('{:.2f} Mb, {:.2f} Mb ({:.2f} %)'.format(start_mem, end_mem, 100 * (start_mem - end_mem) / start_mem))\n",
    "    gc.collect()\n",
    "    return df\n",
    "\n",
    "test_data = pd.read_csv(f'{INPUT_PATH}/testdata/test.csv', sep=',')\n",
    "user_features = pd.read_csv(f'{INPUT_PATH}/traindata/user_features_data/user_features_data.csv', sep='\\t')\n",
    "video_features = pd.read_csv(f'{INPUT_PATH}/traindata/video_features_data/video_features_data.csv', sep='\\t')\n",
    "history_behavior = pd.concat([\n",
    "    reduce_mem(pd.read_csv(x, sep='\\t')) for x in glob.glob(f'{INPUT_PATH}/traindata/history_behavior_data/*/*')\n",
    "])\n",
    "# 日期和用户id\n",
    "history_behavior = history_behavior.sort_values(by=['pt_d', 'user_id'])\n",
    "\n",
    "test_data = reduce_mem(test_data)\n",
    "user_features = reduce_mem(user_features)\n",
    "video_features = reduce_mem(video_features)\n",
    "history_behavior = reduce_mem(history_behavior)"
   ]
  },
  {
   "cell_type": "code",
   "execution_count": 3,
   "metadata": {
    "execution": {
     "iopub.execute_input": "2021-07-27T10:36:38.724342Z",
     "iopub.status.busy": "2021-07-27T10:36:38.723729Z",
     "iopub.status.idle": "2021-07-27T10:36:38.766482Z",
     "shell.execute_reply": "2021-07-27T10:36:38.765553Z",
     "shell.execute_reply.started": "2021-07-27T10:36:38.724294Z"
    },
    "tags": []
   },
   "outputs": [
    {
     "ename": "NameError",
     "evalue": "name 'test_data' is not defined",
     "output_type": "error",
     "traceback": [
      "\u001b[0;31m---------------------------------------------------------------------------\u001b[0m",
      "\u001b[0;31mNameError\u001b[0m                                 Traceback (most recent call last)",
      "\u001b[0;32m<ipython-input-3-73d076dce225>\u001b[0m in \u001b[0;36m<module>\u001b[0;34m\u001b[0m\n\u001b[0;32m----> 1\u001b[0;31m \u001b[0mtest_data\u001b[0m\u001b[0;34m.\u001b[0m\u001b[0mto_hdf\u001b[0m\u001b[0;34m(\u001b[0m\u001b[0;34m'digix-data.hdf'\u001b[0m\u001b[0;34m,\u001b[0m \u001b[0;34m'test_data'\u001b[0m\u001b[0;34m)\u001b[0m\u001b[0;34m\u001b[0m\u001b[0;34m\u001b[0m\u001b[0m\n\u001b[0m\u001b[1;32m      2\u001b[0m \u001b[0muser_features\u001b[0m\u001b[0;34m.\u001b[0m\u001b[0mto_hdf\u001b[0m\u001b[0;34m(\u001b[0m\u001b[0;34m'digix-data.hdf'\u001b[0m\u001b[0;34m,\u001b[0m \u001b[0;34m'user_features'\u001b[0m\u001b[0;34m)\u001b[0m\u001b[0;34m\u001b[0m\u001b[0;34m\u001b[0m\u001b[0m\n\u001b[1;32m      3\u001b[0m \u001b[0mvideo_features\u001b[0m\u001b[0;34m.\u001b[0m\u001b[0mto_hdf\u001b[0m\u001b[0;34m(\u001b[0m\u001b[0;34m'digix-data.hdf'\u001b[0m\u001b[0;34m,\u001b[0m \u001b[0;34m'video_features'\u001b[0m\u001b[0;34m)\u001b[0m\u001b[0;34m\u001b[0m\u001b[0;34m\u001b[0m\u001b[0m\n\u001b[1;32m      4\u001b[0m \u001b[0mhistory_behavior\u001b[0m\u001b[0;34m.\u001b[0m\u001b[0mto_hdf\u001b[0m\u001b[0;34m(\u001b[0m\u001b[0;34m'digix-data.hdf'\u001b[0m\u001b[0;34m,\u001b[0m \u001b[0;34m'history_behavior'\u001b[0m\u001b[0;34m)\u001b[0m\u001b[0;34m\u001b[0m\u001b[0;34m\u001b[0m\u001b[0m\n",
      "\u001b[0;31mNameError\u001b[0m: name 'test_data' is not defined"
     ]
    }
   ],
   "source": [
    "test_data.to_hdf('digix-data.hdf', 'test_data')\n",
    "user_features.to_hdf('digix-data.hdf', 'user_features')\n",
    "video_features.to_hdf('digix-data.hdf', 'video_features')\n",
    "history_behavior.to_hdf('digix-data.hdf', 'history_behavior')"
   ]
  },
  {
   "cell_type": "code",
   "execution_count": 2,
   "metadata": {
    "execution": {
     "iopub.execute_input": "2021-07-27T11:15:51.347185Z",
     "iopub.status.busy": "2021-07-27T11:15:51.346601Z",
     "iopub.status.idle": "2021-07-27T11:16:00.047320Z",
     "shell.execute_reply": "2021-07-27T11:16:00.046212Z",
     "shell.execute_reply.started": "2021-07-27T11:15:51.347138Z"
    },
    "tags": []
   },
   "outputs": [],
   "source": [
    "test_data = pd.read_hdf('digix-data.hdf', 'test_data')\n",
    "user_features = pd.read_hdf('digix-data.hdf', 'user_features')\n",
    "video_features = pd.read_hdf('digix-data.hdf', 'video_features')\n",
    "history_behavior = pd.read_hdf('digix-data.hdf', 'history_behavior')"
   ]
  },
  {
   "cell_type": "code",
   "execution_count": null,
   "metadata": {
    "tags": []
   },
   "outputs": [],
   "source": [
    "history_behavior"
   ]
  },
  {
   "cell_type": "code",
   "execution_count": 4,
   "metadata": {
    "execution": {
     "iopub.execute_input": "2021-07-27T11:16:00.447177Z",
     "iopub.status.busy": "2021-07-27T11:16:00.447007Z",
     "iopub.status.idle": "2021-07-27T11:16:02.714943Z",
     "shell.execute_reply": "2021-07-27T11:16:02.714384Z",
     "shell.execute_reply.started": "2021-07-27T11:16:00.447163Z"
    },
    "tags": []
   },
   "outputs": [],
   "source": [
    "# history_behavior = history_behavior[history_behavior['user_id'].isin(test_data['user_id'].unique())]\n",
    "val_behavior = history_behavior[history_behavior['pt_d'] == 20210502]\n",
    "train_behavior = history_behavior[history_behavior['pt_d'] != 20210502]"
   ]
  },
  {
   "cell_type": "code",
   "execution_count": 5,
   "metadata": {
    "execution": {
     "iopub.execute_input": "2021-07-27T11:16:02.715942Z",
     "iopub.status.busy": "2021-07-27T11:16:02.715747Z",
     "iopub.status.idle": "2021-07-27T11:16:08.803972Z",
     "shell.execute_reply": "2021-07-27T11:16:08.802870Z",
     "shell.execute_reply.started": "2021-07-27T11:16:02.715926Z"
    },
    "tags": []
   },
   "outputs": [],
   "source": [
    "train_behavior = pd.concat([\n",
    "    train_behavior[train_behavior['watch_label'] == 0].sample(1000000),\n",
    "    train_behavior[train_behavior['watch_label'] != 0],\n",
    "])"
   ]
  },
  {
   "cell_type": "code",
   "execution_count": 6,
   "metadata": {
    "execution": {
     "iopub.execute_input": "2021-07-27T11:16:08.805000Z",
     "iopub.status.busy": "2021-07-27T11:16:08.804789Z",
     "iopub.status.idle": "2021-07-27T11:16:09.486209Z",
     "shell.execute_reply": "2021-07-27T11:16:09.485339Z",
     "shell.execute_reply.started": "2021-07-27T11:16:08.804984Z"
    },
    "tags": []
   },
   "outputs": [],
   "source": [
    "val_behavior = pd.concat([\n",
    "    val_behavior[val_behavior['watch_label'] == 0].sample(1000000),\n",
    "    val_behavior[val_behavior['watch_label'] != 0],\n",
    "])"
   ]
  },
  {
   "cell_type": "code",
   "execution_count": 7,
   "metadata": {
    "execution": {
     "iopub.execute_input": "2021-07-27T11:16:10.897429Z",
     "iopub.status.busy": "2021-07-27T11:16:10.896841Z",
     "iopub.status.idle": "2021-07-27T11:16:10.910646Z",
     "shell.execute_reply": "2021-07-27T11:16:10.910043Z",
     "shell.execute_reply.started": "2021-07-27T11:16:10.897384Z"
    },
    "tags": []
   },
   "outputs": [
    {
     "data": {
      "text/plain": [
       "0    1000000\n",
       "1      34361\n",
       "9      27680\n",
       "2      20217\n",
       "3      14623\n",
       "4      11779\n",
       "5       9748\n",
       "8       9711\n",
       "6       8676\n",
       "7       7986\n",
       "Name: watch_label, dtype: int64"
      ]
     },
     "execution_count": 7,
     "metadata": {},
     "output_type": "execute_result"
    }
   ],
   "source": [
    "val_behavior['watch_label'].value_counts()"
   ]
  },
  {
   "cell_type": "code",
   "execution_count": 8,
   "metadata": {
    "execution": {
     "iopub.execute_input": "2021-07-27T11:16:13.189626Z",
     "iopub.status.busy": "2021-07-27T11:16:13.189068Z",
     "iopub.status.idle": "2021-07-27T11:16:13.659868Z",
     "shell.execute_reply": "2021-07-27T11:16:13.658864Z",
     "shell.execute_reply.started": "2021-07-27T11:16:13.189581Z"
    },
    "tags": []
   },
   "outputs": [],
   "source": [
    "import torch\n",
    "import torch.nn.functional as F\n",
    "from torch.autograd import Variable\n",
    "from torch import nn\n",
    "from torch.utils.data import Dataset, DataLoader\n",
    "torch.manual_seed(0)\n",
    "\n",
    "class MLP(nn.Module):\n",
    "    # 行为数据\n",
    "    def __init__(self, n_users=5910798+1, n_items=50355+1, \n",
    "                 n_provinces=33+1, n_citys=339+1, n_devices=1826+1,\n",
    "                 layers=[70, 32], dropout=False):\n",
    "        super().__init__()\n",
    "        self.user_embedding = torch.nn.Embedding(n_users, 50)\n",
    "        self.video_embedding = torch.nn.Embedding(n_items, 20)\n",
    "        \n",
    "        # self.user_province_embedding = torch.nn.Embedding(n_provinces, 5)\n",
    "        # self.user_city_embedding = torch.nn.Embedding(n_citys, 5)\n",
    "        # self.user_device_embedding = torch.nn.Embedding(n_devices, 5)\n",
    "\n",
    "        # list of weight matrices\n",
    "        self.fc_layers = torch.nn.ModuleList()\n",
    "        for _, (in_size, out_size) in enumerate(zip(layers[:-1], layers[1:])):\n",
    "            self.fc_layers.append(torch.nn.Linear(in_size, out_size))\n",
    "        self.output_layer1 = torch.nn.Linear(layers[-1], 10)\n",
    "        self.output_layer2 = torch.nn.Linear(layers[-1], 1)\n",
    "        \n",
    "        print(self.fc_layers)\n",
    "        \n",
    "    def forward(self, feed_dict):\n",
    "        users = feed_dict['user_id']\n",
    "        items = feed_dict['video_id']        \n",
    "        \n",
    "        user_embedding = self.user_embedding(users)\n",
    "        video_embedding = self.video_embedding(items)\n",
    "        \n",
    "        # user_province = self.user_province_embedding(feed_dict['user_province'])\n",
    "        # user_city = self.user_city_embedding(feed_dict['user_city'])\n",
    "        # user_device = self.user_device_embedding(feed_dict['user_device'])\n",
    "        \n",
    "        x = torch.cat([user_embedding, video_embedding], 1)\n",
    "        # x = torch.cat([user_embedding, video_embedding, user_province, user_city, user_device], 1)\n",
    "        for idx, _ in enumerate(range(len(self.fc_layers))):\n",
    "            x = self.fc_layers[idx](x)\n",
    "            x = F.relu(x)\n",
    "            x = F.dropout(x)\n",
    "        logit1 = self.output_layer1(x)\n",
    "        logit2 = self.output_layer2(x)\n",
    "        return logit1, logit2\n",
    "\n",
    "    def predict(self, feed_dict):\n",
    "        for key in feed_dict:\n",
    "            if type(feed_dict[key]) != type(None):\n",
    "                feed_dict[key] = torch.from_numpy(\n",
    "                    feed_dict[key]).to(dtype=torch.long, device='cpu')\n",
    "        output_scores = self.forward(feed_dict)\n",
    "        return output_scores"
   ]
  },
  {
   "cell_type": "code",
   "execution_count": 9,
   "metadata": {
    "execution": {
     "iopub.execute_input": "2021-07-27T11:16:14.712959Z",
     "iopub.status.busy": "2021-07-27T11:16:14.712387Z",
     "iopub.status.idle": "2021-07-27T11:16:17.064471Z",
     "shell.execute_reply": "2021-07-27T11:16:17.064048Z",
     "shell.execute_reply.started": "2021-07-27T11:16:14.712913Z"
    },
    "tags": []
   },
   "outputs": [
    {
     "name": "stdout",
     "output_type": "stream",
     "text": [
      "ModuleList(\n",
      "  (0): Linear(in_features=70, out_features=32, bias=True)\n",
      ")\n"
     ]
    },
    {
     "data": {
      "text/plain": [
       "(tensor([[-0.0339, -0.1640, -0.1777,  0.3275,  0.1747, -0.1851, -0.0804, -0.1758,\n",
       "          -0.1822, -0.0843],\n",
       "         [-0.3471,  0.0056,  0.1633,  0.3907, -0.4149, -0.3281,  0.3300, -0.1325,\n",
       "          -0.0363,  0.0784]], grad_fn=<AddmmBackward>),\n",
       " tensor([[ 0.1139],\n",
       "         [-0.3359]], grad_fn=<AddmmBackward>))"
      ]
     },
     "execution_count": 9,
     "metadata": {},
     "output_type": "execute_result"
    }
   ],
   "source": [
    "model = MLP()\n",
    "model.predict({'user_id':np.array([10, 10]), \n",
    "               'video_id':np.array([10, 10]),\n",
    "              'user_city': np.array([10, 10]), \n",
    "               'user_province': np.array([10, 10]), \n",
    "               'user_device':np.array([10, 10])})"
   ]
  },
  {
   "cell_type": "code",
   "execution_count": 10,
   "metadata": {
    "execution": {
     "iopub.execute_input": "2021-07-27T11:16:17.065368Z",
     "iopub.status.busy": "2021-07-27T11:16:17.065176Z",
     "iopub.status.idle": "2021-07-27T11:16:18.977806Z",
     "shell.execute_reply": "2021-07-27T11:16:18.977262Z",
     "shell.execute_reply.started": "2021-07-27T11:16:17.065352Z"
    },
    "tags": []
   },
   "outputs": [],
   "source": [
    "model = model.cuda()\n",
    "\n",
    "\n",
    "# 正样本有多少？ "
   ]
  },
  {
   "cell_type": "code",
   "execution_count": null,
   "metadata": {
    "tags": []
   },
   "outputs": [],
   "source": [
    "class MLPDataset(Dataset):\n",
    "    def __init__(self, history_behavior, train=True):\n",
    "        self.history_behavior = history_behavior\n",
    "        self.train = train\n",
    "        \n",
    "    def __getitem__(self, index):\n",
    "        user_id = self.history_behavior.iloc[index]['user_id']\n",
    "        video_id = self.history_behavior.iloc[index]['video_id']\n",
    "        \n",
    "        # 从行为日志 去 索引用户的特征\n",
    "        user_province = user_features.loc[user_id]['province']\n",
    "        user_city = user_features.loc[user_id]['city']\n",
    "        user_device = user_features.loc[user_id]['device_name']\n",
    "        \n",
    "        feed_dict = {\n",
    "            'user_id': user_id,\n",
    "            'video_id': video_id,\n",
    "            'user_province': user_province,\n",
    "            'user_city': user_city,\n",
    "            'user_device': user_device,\n",
    "        }\n",
    "        \n",
    "        if self.train:\n",
    "            watch_label = self.history_behavior.iloc[index]['watch_label']\n",
    "            share_label = self.history_behavior.iloc[index]['is_share']\n",
    "\n",
    "            feed_dict['watch_label'] = watch_label\n",
    "            feed_dict['share_label'] = share_label\n",
    "            \n",
    "            return feed_dict\n",
    "            \n",
    "#             return user_id, video_id, \\\n",
    "#                 torch.from_numpy(np.array(watch_label)), \\\n",
    "#                 torch.from_numpy(np.array([share_label]))\n",
    "        else:\n",
    "            return feed_dict\n",
    "        \n",
    "    def __len__(self):\n",
    "        return len(self.history_behavior)\n",
    "    \n",
    "train_loader = torch.utils.data.DataLoader(\n",
    "    dataset = MLPDataset(train_behavior),\n",
    "    batch_size=1000, shuffle=True, num_workers=5,\n",
    ")\n",
    "\n",
    "# batch_size 1000\n",
    "\n",
    "val_loader = torch.utils.data.DataLoader(\n",
    "    dataset = MLPDataset(val_behavior, train=True),\n",
    "    batch_size=1000, shuffle=False, num_workers=5,\n",
    ")"
   ]
  },
  {
   "cell_type": "code",
   "execution_count": 12,
   "metadata": {
    "execution": {
     "iopub.execute_input": "2021-07-27T11:16:18.986260Z",
     "iopub.status.busy": "2021-07-27T11:16:18.986088Z",
     "iopub.status.idle": "2021-07-27T11:16:19.090772Z",
     "shell.execute_reply": "2021-07-27T11:16:19.090291Z",
     "shell.execute_reply.started": "2021-07-27T11:16:18.986246Z"
    },
    "tags": []
   },
   "outputs": [
    {
     "data": {
      "text/plain": [
       "0    1000000\n",
       "1     523060\n",
       "9     360841\n",
       "2     293890\n",
       "3     204565\n",
       "4     160625\n",
       "5     133253\n",
       "8     129087\n",
       "6     116416\n",
       "7     109763\n",
       "Name: watch_label, dtype: int64"
      ]
     },
     "execution_count": 12,
     "metadata": {},
     "output_type": "execute_result"
    }
   ],
   "source": [
    "train_behavior['watch_label'].value_counts()"
   ]
  },
  {
   "cell_type": "code",
   "execution_count": 13,
   "metadata": {
    "execution": {
     "iopub.execute_input": "2021-07-27T11:16:20.913278Z",
     "iopub.status.busy": "2021-07-27T11:16:20.912711Z",
     "iopub.status.idle": "2021-07-27T11:16:22.188967Z",
     "shell.execute_reply": "2021-07-27T11:16:22.187852Z",
     "shell.execute_reply.started": "2021-07-27T11:16:20.913234Z"
    },
    "tags": []
   },
   "outputs": [
    {
     "name": "stderr",
     "output_type": "stream",
     "text": [
      "/home/lyz/.local/lib/python3.6/site-packages/requests/__init__.py:91: RequestsDependencyWarning: urllib3 (1.26.6) or chardet (3.0.4) doesn't match a supported version!\n",
      "  RequestsDependencyWarning)\n"
     ]
    }
   ],
   "source": [
    "from torch.utils.tensorboard import SummaryWriter\n",
    "from tqdm import tqdm\n",
    "writer = SummaryWriter('multi-task-dl')"
   ]
  },
  {
   "cell_type": "code",
   "execution_count": null,
   "metadata": {
    "execution": {
     "iopub.execute_input": "2021-07-27T11:16:27.137178Z",
     "iopub.status.busy": "2021-07-27T11:16:27.136585Z"
    },
    "scrolled": true,
    "tags": []
   },
   "outputs": [
    {
     "name": "stderr",
     "output_type": "stream",
     "text": [
      "Epoch 0:  33%|███▎      | 1000/3032 [02:55<06:11,  5.48it/s]\n",
      "Val:   0%|          | 0/1145 [00:00<?, ?it/s]\u001b[A\n",
      "Val:   0%|          | 1/1145 [00:02<40:39,  2.13s/it]\u001b[A\n",
      "Val:   1%|          | 6/1145 [00:03<08:11,  2.32it/s]\u001b[A\n",
      "Val:   1%|          | 11/1145 [00:03<05:00,  3.77it/s]\u001b[A\n",
      "Val:   1%|          | 12/1145 [00:03<04:53,  3.87it/s]\u001b[A\n",
      "Val:   1%|▏         | 16/1145 [00:04<04:32,  4.15it/s]\u001b[A\n",
      "Val:   2%|▏         | 21/1145 [00:05<03:37,  5.18it/s]\u001b[A\n",
      "Val:   2%|▏         | 22/1145 [00:05<03:41,  5.08it/s]\u001b[A\n",
      "Val:   2%|▏         | 26/1145 [00:06<03:49,  4.87it/s]\u001b[A\n",
      "Val:   3%|▎         | 31/1145 [00:07<03:08,  5.91it/s]\u001b[A\n",
      "Val:   3%|▎         | 32/1145 [00:07<03:24,  5.44it/s]\u001b[A\n",
      "Val:   3%|▎         | 36/1145 [00:08<03:36,  5.11it/s]\u001b[A\n",
      "Val:   4%|▎         | 41/1145 [00:09<03:08,  5.85it/s]\u001b[A\n",
      "Val:   4%|▎         | 42/1145 [00:09<03:10,  5.79it/s]\u001b[A\n",
      "Val:   4%|▍         | 46/1145 [00:10<03:28,  5.27it/s]\u001b[A\n",
      "Val:   4%|▍         | 51/1145 [00:10<03:20,  5.45it/s]\u001b[A\n",
      "Val:   5%|▍         | 56/1145 [00:11<02:50,  6.39it/s]\u001b[A\n",
      "Val:   5%|▍         | 57/1145 [00:11<03:06,  5.84it/s]\u001b[A\n",
      "Val:   5%|▌         | 61/1145 [00:12<03:22,  5.35it/s]\u001b[A\n",
      "Val:   6%|▌         | 66/1145 [00:13<03:15,  5.53it/s]\u001b[A\n",
      "Val:   6%|▌         | 71/1145 [00:14<03:11,  5.62it/s]\u001b[A\n",
      "Val:   7%|▋         | 76/1145 [00:14<02:44,  6.48it/s]\u001b[A\n",
      "Val:   7%|▋         | 77/1145 [00:15<03:00,  5.90it/s]\u001b[A\n",
      "Val:   7%|▋         | 81/1145 [00:16<03:16,  5.41it/s]\u001b[A\n",
      "Val:   8%|▊         | 86/1145 [00:16<03:09,  5.58it/s]\u001b[A\n",
      "Val:   8%|▊         | 91/1145 [00:17<02:43,  6.44it/s]\u001b[A\n",
      "Val:   8%|▊         | 92/1145 [00:17<02:58,  5.92it/s]\u001b[A\n",
      "Val:   8%|▊         | 96/1145 [00:18<03:13,  5.43it/s]\u001b[A\n",
      "Val:   9%|▉         | 101/1145 [00:19<02:44,  6.35it/s]\u001b[A\n",
      "Val:   9%|▉         | 102/1145 [00:19<02:57,  5.86it/s]\u001b[A\n",
      "Val:   9%|▉         | 106/1145 [00:20<02:46,  6.26it/s]\u001b[A\n",
      "Val:   9%|▉         | 107/1145 [00:20<03:01,  5.72it/s]\u001b[A\n",
      "Val:  10%|▉         | 111/1145 [00:20<02:47,  6.18it/s]\u001b[A\n",
      "Val:  10%|▉         | 112/1145 [00:21<03:03,  5.64it/s]\u001b[A\n",
      "Val:  10%|█         | 116/1145 [00:21<02:48,  6.11it/s]\u001b[A\n",
      "Val:  10%|█         | 117/1145 [00:22<03:02,  5.63it/s]\u001b[A\n",
      "Val:  11%|█         | 121/1145 [00:22<03:17,  5.19it/s]\u001b[A\n",
      "Val:  11%|█         | 126/1145 [00:23<02:43,  6.24it/s]\u001b[A\n",
      "Val:  11%|█         | 127/1145 [00:23<02:56,  5.78it/s]\u001b[A\n",
      "Val:  11%|█▏        | 131/1145 [00:24<03:09,  5.35it/s]\u001b[A\n",
      "Val:  12%|█▏        | 136/1145 [00:25<02:42,  6.20it/s]\u001b[A\n",
      "Val:  12%|█▏        | 137/1145 [00:25<02:51,  5.87it/s]\u001b[A\n",
      "Val:  12%|█▏        | 141/1145 [00:26<02:50,  5.88it/s]\u001b[A\n",
      "Val:  12%|█▏        | 142/1145 [00:26<02:54,  5.74it/s]\u001b[A\n",
      "Val:  13%|█▎        | 146/1145 [00:27<03:09,  5.26it/s]\u001b[A\n",
      "Val:  13%|█▎        | 151/1145 [00:28<02:50,  5.83it/s]\u001b[A\n",
      "Val:  13%|█▎        | 152/1145 [00:28<02:46,  5.95it/s]\u001b[A\n",
      "Val:  14%|█▎        | 156/1145 [00:29<03:03,  5.40it/s]\u001b[A\n",
      "Val:  14%|█▍        | 161/1145 [00:29<02:42,  6.04it/s]\u001b[A\n",
      "Val:  14%|█▍        | 162/1145 [00:29<02:44,  5.98it/s]\u001b[A\n",
      "Val:  14%|█▍        | 166/1145 [00:30<03:00,  5.42it/s]\u001b[A\n",
      "Val:  15%|█▍        | 171/1145 [00:31<02:35,  6.28it/s]\u001b[A\n",
      "Val:  15%|█▌        | 172/1145 [00:31<02:44,  5.90it/s]\u001b[A\n",
      "Val:  15%|█▌        | 176/1145 [00:32<03:01,  5.34it/s]\u001b[A\n",
      "Val:  16%|█▌        | 181/1145 [00:33<02:34,  6.26it/s]\u001b[A\n",
      "Val:  16%|█▌        | 182/1145 [00:33<02:45,  5.83it/s]\u001b[A\n",
      "Val:  16%|█▌        | 186/1145 [00:34<02:58,  5.36it/s]\u001b[A\n",
      "Val:  17%|█▋        | 191/1145 [00:35<02:51,  5.57it/s]\u001b[A\n",
      "Val:  17%|█▋        | 196/1145 [00:35<02:30,  6.31it/s]\u001b[A\n",
      "Val:  17%|█▋        | 197/1145 [00:35<02:38,  5.98it/s]\u001b[A\n",
      "Val:  18%|█▊        | 201/1145 [00:36<02:53,  5.43it/s]\u001b[A\n",
      "Val:  18%|█▊        | 206/1145 [00:37<02:31,  6.21it/s]\u001b[A\n",
      "Val:  18%|█▊        | 207/1145 [00:37<02:39,  5.89it/s]\u001b[A\n",
      "Val:  18%|█▊        | 211/1145 [00:38<02:53,  5.39it/s]\u001b[A\n",
      "Val:  19%|█▉        | 216/1145 [00:39<02:28,  6.25it/s]\u001b[A\n",
      "Val:  19%|█▉        | 217/1145 [00:39<02:39,  5.81it/s]\u001b[A\n",
      "Val:  19%|█▉        | 221/1145 [00:39<02:29,  6.18it/s]\u001b[A\n",
      "Val:  19%|█▉        | 222/1145 [00:40<02:42,  5.69it/s]\u001b[A\n",
      "Val:  20%|█▉        | 226/1145 [00:40<02:41,  5.71it/s]\u001b[A\n",
      "Val:  20%|█▉        | 227/1145 [00:41<02:38,  5.78it/s]\u001b[A\n",
      "Val:  20%|██        | 231/1145 [00:41<02:31,  6.05it/s]\u001b[A\n",
      "Val:  20%|██        | 232/1145 [00:41<02:39,  5.72it/s]\u001b[A\n",
      "Val:  21%|██        | 236/1145 [00:42<02:37,  5.76it/s]\u001b[A\n",
      "Val:  21%|██        | 237/1145 [00:42<02:37,  5.77it/s]\u001b[A\n",
      "Val:  21%|██        | 241/1145 [00:43<02:24,  6.24it/s]\u001b[A\n",
      "Val:  21%|██        | 242/1145 [00:43<02:39,  5.67it/s]\u001b[A\n",
      "Val:  21%|██▏       | 246/1145 [00:44<02:24,  6.23it/s]\u001b[A\n",
      "Val:  22%|██▏       | 247/1145 [00:44<02:41,  5.57it/s]\u001b[A\n",
      "Val:  22%|██▏       | 251/1145 [00:45<02:24,  6.19it/s]\u001b[A\n",
      "Val:  22%|██▏       | 252/1145 [00:45<02:41,  5.54it/s]\u001b[A\n",
      "Val:  22%|██▏       | 256/1145 [00:46<02:38,  5.60it/s]\u001b[A\n",
      "Val:  22%|██▏       | 257/1145 [00:46<02:35,  5.70it/s]\u001b[A\n",
      "Val:  23%|██▎       | 261/1145 [00:47<02:47,  5.27it/s]\u001b[A\n",
      "Val:  23%|██▎       | 266/1145 [00:47<02:28,  5.90it/s]\u001b[A\n",
      "Val:  23%|██▎       | 267/1145 [00:47<02:28,  5.92it/s]\u001b[A\n",
      "Val:  24%|██▎       | 271/1145 [00:48<02:18,  6.30it/s]\u001b[A\n",
      "Val:  24%|██▍       | 272/1145 [00:48<02:31,  5.75it/s]\u001b[A\n",
      "Val:  24%|██▍       | 276/1145 [00:49<02:18,  6.26it/s]\u001b[A\n",
      "Val:  24%|██▍       | 277/1145 [00:49<02:33,  5.64it/s]\u001b[A\n",
      "Val:  25%|██▍       | 281/1145 [00:50<02:20,  6.17it/s]\u001b[A\n",
      "Val:  25%|██▍       | 282/1145 [00:50<02:34,  5.59it/s]\u001b[A\n",
      "Val:  25%|██▍       | 286/1145 [00:51<02:41,  5.33it/s]\u001b[A"
     ]
    }
   ],
   "source": [
    "wathch_loss_fn = nn.CrossEntropyLoss(weight=torch.FloatTensor([1,2,2,2,2,2,2,2,2,2]).cuda())\n",
    "shaere_loss_fn = nn.BCEWithLogitsLoss()\n",
    "optimizer = torch.optim.Adam(model.parameters(), lr=0.001)\n",
    "\n",
    "step = 0\n",
    "for epoch in range(10):\n",
    "    for idx, data in tqdm(enumerate(train_loader),total=len(train_loader), desc=f'Epoch {epoch}'):\n",
    "        feed_dict_cuda = {\n",
    "            'user_id': data['user_id'].long().cuda(),\n",
    "            'video_id': data['video_id'].long().cuda(),\n",
    "            'user_province': data['user_province'].long().cuda(),\n",
    "            'user_city': data['user_city'].long().cuda(),\n",
    "            'user_device': data['user_device'].long().cuda(),\n",
    "        }\n",
    "        \n",
    "        watch_label = data['watch_label'].long().cuda()\n",
    "        share_label = data['share_label'].float().cuda().view(-1, 1)\n",
    "\n",
    "        optimizer.zero_grad()\n",
    "        wathch_pred, share_pred = model(feed_dict_cuda)\n",
    "        loss = wathch_loss_fn(wathch_pred, watch_label) # + shaere_loss_fn(share_pred, share_label)\n",
    "\n",
    "        loss.backward()\n",
    "        optimizer.step()\n",
    "\n",
    "        total_acc = (wathch_pred.argmax(1) == watch_label).float().mean().item()\n",
    "        true_acc = ((wathch_pred.argmax(1) == watch_label) & (watch_label != 0)).float().sum()\n",
    "        true_acc /= (watch_label != 0).float().sum()\n",
    "        \n",
    "        writer.add_scalar('Train/Total-ACC', total_acc, step)\n",
    "        writer.add_scalar('Train/True-ACC', true_acc, step)\n",
    "        writer.add_scalar('Train/Loss', loss.item(), step)\n",
    "        writer.flush()\n",
    "        step += 1\n",
    "                \n",
    "        if idx!=0 and idx % 1000 == 0:\n",
    "            val_acc = []\n",
    "            val_pred, val_label = [], []\n",
    "            with torch.no_grad():\n",
    "                for data in tqdm(val_loader, desc=f'Val'):\n",
    "                    val_label += list(data['watch_label'].data.numpy())\n",
    "\n",
    "                    feed_dict_cuda = {\n",
    "                        'user_id': data['user_id'].long().cuda(),\n",
    "                        'video_id': data['video_id'].long().cuda(),\n",
    "                        'user_province': data['user_province'].long().cuda(),\n",
    "                        'user_city': data['user_city'].long().cuda(),\n",
    "                        'user_device': data['user_device'].long().cuda(),\n",
    "                    }\n",
    "\n",
    "                    watch_label = data['watch_label'].long().cuda()\n",
    "                    share_label = data['share_label'].float().cuda().view(-1, 1)\n",
    "\n",
    "                    wathch_pred, share_pred = model(feed_dict_cuda)\n",
    "                    \n",
    "                    val_pred += list(wathch_pred.argmax(1).data.cpu().numpy())\n",
    "                    true_acc = ((wathch_pred.argmax(1) == watch_label) & (watch_label != 0)).float().sum()\n",
    "                    true_acc /= (watch_label != 0).float().sum()\n",
    "                    val_acc.append(true_acc)\n",
    "            \n",
    "            val_label = np.array(val_label)\n",
    "            val_pred = np.array(val_pred)\n",
    "            from sklearn.metrics import roc_auc_score\n",
    "            score = 0 \n",
    "            for aucflag, lbl in zip(np.linspace(0.1, 0.9, 9), range(1, 10)):\n",
    "                # [0, 1, 2, 3] -> [0, 0, 1, 0]\n",
    "                # [1, 1, 2, 3] -> [0, 0, 1, 0]\n",
    "                pred = (val_pred == lbl).astype(int)\n",
    "                label = (val_label == lbl).astype(int)\n",
    "                try:\n",
    "                    score += aucflag * roc_auc_score(label, pred)\n",
    "                except:\n",
    "                    pass\n",
    "            \n",
    "            val_acc = pd.DataFrame([x.item() for x in val_acc]).fillna(0).mean()[0]\n",
    "            writer.add_scalar('Val/True-ACC', val_acc, step)\n",
    "            writer.add_scalar('Val/AUC', score, step)\n",
    "            writer.flush()"
   ]
  },
  {
   "cell_type": "code",
   "execution_count": 78,
   "metadata": {
    "execution": {
     "iopub.execute_input": "2021-07-21T11:28:41.566078Z",
     "iopub.status.busy": "2021-07-21T11:28:41.565484Z",
     "iopub.status.idle": "2021-07-21T11:35:47.815796Z",
     "shell.execute_reply": "2021-07-21T11:35:47.815179Z",
     "shell.execute_reply.started": "2021-07-21T11:28:41.566023Z"
    },
    "tags": []
   },
   "outputs": [],
   "source": [
    "test_loader = torch.utils.data.DataLoader(\n",
    "    dataset = MLPDataset(test_data, train=False),\n",
    "    batch_size=20, shuffle=False, num_workers=5,\n",
    ")\n",
    "\n",
    "test_watch = []\n",
    "test_share = []\n",
    "with torch.no_grad():\n",
    "    for data in test_loader:\n",
    "        feed_dict_cuda = {\n",
    "            'user_id': data['user_id'].long().cuda(),\n",
    "            'video_id': data['video_id'].long().cuda(),\n",
    "            'user_province': data['user_province'].long().cuda(),\n",
    "            'user_city': data['user_city'].long().cuda(),\n",
    "            'user_device': data['user_device'].long().cuda(),\n",
    "        }\n",
    "        wathch_pred, share_pred = model(feed_dict_cuda)\n",
    "        \n",
    "        test_watch += list(wathch_pred.argmax(1).cpu().data.numpy())\n",
    "        test_share += list((share_pred.sigmoid() > 0.5).int().cpu().data.numpy().flatten())"
   ]
  },
  {
   "cell_type": "code",
   "execution_count": 79,
   "metadata": {
    "execution": {
     "iopub.execute_input": "2021-07-21T11:35:47.816883Z",
     "iopub.status.busy": "2021-07-21T11:35:47.816705Z",
     "iopub.status.idle": "2021-07-21T11:35:48.729888Z",
     "shell.execute_reply": "2021-07-21T11:35:48.728858Z",
     "shell.execute_reply.started": "2021-07-21T11:35:47.816866Z"
    },
    "tags": []
   },
   "outputs": [],
   "source": [
    "test_data['watch_label'] = test_watch\n",
    "test_data['is_share'] = test_share"
   ]
  },
  {
   "cell_type": "code",
   "execution_count": 80,
   "metadata": {
    "execution": {
     "iopub.execute_input": "2021-07-21T11:36:24.455548Z",
     "iopub.status.busy": "2021-07-21T11:36:24.454958Z",
     "iopub.status.idle": "2021-07-21T11:36:28.008211Z",
     "shell.execute_reply": "2021-07-21T11:36:28.007169Z",
     "shell.execute_reply.started": "2021-07-21T11:36:24.455500Z"
    },
    "tags": []
   },
   "outputs": [],
   "source": [
    "test_data.to_csv('submission.csv', index=None)"
   ]
  },
  {
   "cell_type": "code",
   "execution_count": 82,
   "metadata": {
    "execution": {
     "iopub.execute_input": "2021-07-21T11:36:38.114258Z",
     "iopub.status.busy": "2021-07-21T11:36:38.113664Z",
     "iopub.status.idle": "2021-07-21T11:36:40.993177Z",
     "shell.execute_reply": "2021-07-21T11:36:40.991691Z",
     "shell.execute_reply.started": "2021-07-21T11:36:38.114202Z"
    },
    "tags": []
   },
   "outputs": [
    {
     "name": "stdout",
     "output_type": "stream",
     "text": [
      "  adding: submission.csv (deflated 64%)\n"
     ]
    }
   ],
   "source": [
    "!zip submission.csv.zip submission.csv"
   ]
  },
  {
   "cell_type": "code",
   "execution_count": 88,
   "metadata": {
    "execution": {
     "iopub.execute_input": "2021-07-21T11:56:09.960634Z",
     "iopub.status.busy": "2021-07-21T11:56:09.960065Z",
     "iopub.status.idle": "2021-07-21T11:56:09.979854Z",
     "shell.execute_reply": "2021-07-21T11:56:09.979167Z",
     "shell.execute_reply.started": "2021-07-21T11:56:09.960587Z"
    },
    "tags": []
   },
   "outputs": [
    {
     "data": {
      "text/plain": [
       "0    2822180\n",
       "Name: is_share, dtype: int64"
      ]
     },
     "execution_count": 88,
     "metadata": {},
     "output_type": "execute_result"
    }
   ],
   "source": [
    "test_data['is_share'].value_counts()"
   ]
  },
  {
   "cell_type": "code",
   "execution_count": 89,
   "metadata": {
    "execution": {
     "iopub.execute_input": "2021-07-21T11:56:18.604344Z",
     "iopub.status.busy": "2021-07-21T11:56:18.603816Z",
     "iopub.status.idle": "2021-07-21T11:56:18.623169Z",
     "shell.execute_reply": "2021-07-21T11:56:18.622565Z",
     "shell.execute_reply.started": "2021-07-21T11:56:18.604298Z"
    }
   },
   "outputs": [
    {
     "data": {
      "text/plain": [
       "0    2626811\n",
       "2      38000\n",
       "1      36062\n",
       "9      33947\n",
       "3      25696\n",
       "4      19315\n",
       "5      15689\n",
       "6      15392\n",
       "8       6866\n",
       "7       4402\n",
       "Name: watch_label, dtype: int64"
      ]
     },
     "execution_count": 89,
     "metadata": {},
     "output_type": "execute_result"
    }
   ],
   "source": [
    "test_data['watch_label'].value_counts()"
   ]
  },
  {
   "cell_type": "code",
   "execution_count": null,
   "metadata": {},
   "outputs": [],
   "source": []
  }
 ],
 "metadata": {
  "kernelspec": {
   "display_name": "Python 3",
   "language": "python",
   "name": "python3"
  },
  "language_info": {
   "codemirror_mode": {
    "name": "ipython",
    "version": 3
   },
   "file_extension": ".py",
   "mimetype": "text/x-python",
   "name": "python",
   "nbconvert_exporter": "python",
   "pygments_lexer": "ipython3",
   "version": "3.6.9"
  },
  "toc-autonumbering": true
 },
 "nbformat": 4,
 "nbformat_minor": 4
}
